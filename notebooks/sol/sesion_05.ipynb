{
  "nbformat": 4,
  "nbformat_minor": 0,
  "metadata": {
    "colab": {
      "private_outputs": true,
      "provenance": [],
      "authorship_tag": "ABX9TyMV+j1fH1ZJk5CkKmacxgfG",
      "include_colab_link": true
    },
    "kernelspec": {
      "name": "python3",
      "display_name": "Python 3"
    },
    "language_info": {
      "name": "python"
    }
  },
  "cells": [
    {
      "cell_type": "markdown",
      "metadata": {
        "id": "view-in-github",
        "colab_type": "text"
      },
      "source": [
        "<a href=\"https://colab.research.google.com/github/RodolfoFerro/clase-demo-smc/blob/main/notebooks/sol/sesion_05.ipynb\" target=\"_parent\"><img src=\"https://colab.research.google.com/assets/colab-badge.svg\" alt=\"Open In Colab\"/></a>"
      ]
    },
    {
      "cell_type": "markdown",
      "source": [
        "# **Simulación Monte Carlo con programación orientada a objetos en Python**\n",
        "\n",
        "> Rodolfo Ferro <br>\n",
        "> ferro@cimat.mx\n",
        "\n",
        "### **Objetivos**\n",
        "\n",
        "- Comprender los conceptos básicos de la simulación Monte Carlo y su implementación mediante programación orientada a objetos (POO) en Python.\n",
        "- Reforzar los fundamentos de POO con Python vistos anteriormente a través de la resolución de problemas aplicados.\n",
        "\n",
        "### **Introducción**\n",
        "\n",
        "En este cuaderno de trabajo introduciremos una clase base para realizar experimentos basados en simulaciones.\n",
        "\n",
        "Posteriormente, resolveremos un primer problema realizando una simulación de Monte Carlo (SMC) para aproximar el valor de π."
      ],
      "metadata": {
        "id": "wsOfP54DteJk"
      }
    },
    {
      "cell_type": "markdown",
      "source": [
        "## **Clase base**\n",
        "\n",
        "Este código base provee una clase general para utilizar posteriormente en nuestros experimentos de simulación Monte Carlo. Dicha función se ha estructurado de manera que podamos acceder a algunos valores relevantes para el experimento de forma rápida sin tener que realizar calculos nuevamente. Esto se vuelve relevante al considerar que en nuestras simulaciones estaremos utilizanod datos aliatorios."
      ],
      "metadata": {
        "id": "Y7m9C2XatkJT"
      }
    },
    {
      "cell_type": "code",
      "execution_count": null,
      "metadata": {
        "id": "dQFue1Q9bMVE"
      },
      "outputs": [],
      "source": [
        "class Experiment:\n",
        "    \"\"\"General experiment class.\"\"\"\n",
        "\n",
        "    def __init__(self):\n",
        "        \"\"\"Class constructor.\"\"\"\n",
        "\n",
        "        self.params = {}\n",
        "        self.results = {}\n",
        "\n",
        "    def setup(self, params):\n",
        "        \"\"\"Sets the new parameters of the experiment.\n",
        "\n",
        "        Parameters\n",
        "        ----------\n",
        "        params : dict\n",
        "            A Python dict containing the new set of parameters.\n",
        "        \"\"\"\n",
        "        self.params.update(params)\n",
        "\n",
        "    def __str__(self):\n",
        "        \"\"\"Override for print function usage.\"\"\"\n",
        "\n",
        "        text = '🧪 Experiment parameters:\\n\\n'\n",
        "        for key, value in self.params.items():\n",
        "            text += f'   • {key}: {value}\\n'\n",
        "\n",
        "        return text\n",
        "\n",
        "    def run(self):\n",
        "        \"\"\"Method to run the experiment.\n",
        "\n",
        "        Function not implemented.\n",
        "        \"\"\"\n",
        "\n",
        "        return 'Not setup provided!'"
      ]
    },
    {
      "cell_type": "markdown",
      "source": [
        "Utilizando la clase general que hemos creado, podemos instanciar un objeto de dicha clase y setear parámetros para dicho experimento, así como explorar sus diferentes elementos:"
      ],
      "metadata": {
        "id": "p-J31i1hsKby"
      }
    },
    {
      "cell_type": "code",
      "source": [
        "exp = Experiment()"
      ],
      "metadata": {
        "id": "vaT_JY8gi-mE"
      },
      "execution_count": null,
      "outputs": []
    },
    {
      "cell_type": "code",
      "source": [
        "params = {\n",
        "    'n_balls': 100,\n",
        "    'depth': 10\n",
        "}\n",
        "\n",
        "exp.setup(params)\n",
        "exp.params"
      ],
      "metadata": {
        "id": "3HKjntGVlBW1"
      },
      "execution_count": null,
      "outputs": []
    },
    {
      "cell_type": "markdown",
      "source": [
        "Utilizando la función `print`, podemos obtener información sobre los parámetros del experimento."
      ],
      "metadata": {
        "id": "rx4zBaxwsr4h"
      }
    },
    {
      "cell_type": "code",
      "source": [
        "print(exp)"
      ],
      "metadata": {
        "id": "rzqy6g5-sd3T"
      },
      "execution_count": null,
      "outputs": []
    },
    {
      "cell_type": "markdown",
      "source": [
        "Si quisiera ejecutar un experimento:"
      ],
      "metadata": {
        "id": "MpC9aiS4r_Bi"
      }
    },
    {
      "cell_type": "code",
      "source": [
        "exp.run()"
      ],
      "metadata": {
        "id": "PyVA70mklh0N"
      },
      "execution_count": null,
      "outputs": []
    },
    {
      "cell_type": "markdown",
      "source": [
        "No podría hacerlo, porque no he configurado los pasos y operaciones para realizar alguna simulación."
      ],
      "metadata": {
        "id": "9AyOYEG9sCaX"
      }
    },
    {
      "cell_type": "markdown",
      "source": [
        "## **EJERCICIO:** Aproximación de π\n",
        "\n",
        "Para nuestro ejercicio, necesitaremos crear una nueva clase, que hereda propiedades de nuetsra clase base.\n",
        "\n",
        "La nueva clase necesitará hagamos sobrecarga de métodos previamente definidos, pues el método `run()` no se definió previemente para que realizara algo en específico."
      ],
      "metadata": {
        "id": "wSGRyB_Rsy3Z"
      }
    },
    {
      "cell_type": "code",
      "source": [
        "import numpy as np\n",
        "import matplotlib.pyplot as plt"
      ],
      "metadata": {
        "id": "YlCGSB-LwCCS"
      },
      "execution_count": null,
      "outputs": []
    },
    {
      "cell_type": "code",
      "source": [
        "class MonteCarloPiFull(Experiment):\n",
        "    \"\"\"Own implementation of Pi approximation using Monte Carlo.\"\"\"\n",
        "\n",
        "    def __init__(self):\n",
        "        super().__init__()\n",
        "\n",
        "\n",
        "    def gen_dot(self):\n",
        "        \"\"\"Generate a dot in space.\"\"\"\n",
        "\n",
        "        # Paso 2. Determinar los valores de entrada.\n",
        "        coords = np.random.uniform(-1, 1, 2)\n",
        "        return coords\n",
        "\n",
        "    def verify_dot(self, coords):\n",
        "        \"\"\"Verifies if coords are in circumference.\n",
        "\n",
        "        Paraneters\n",
        "        ----------\n",
        "        coords : np.array\n",
        "\n",
        "        Returns\n",
        "        -------\n",
        "        bool\n",
        "            Whether the dot is inside or not.\n",
        "        \"\"\"\n",
        "\n",
        "        return coords[0] ** 2 + coords[1] ** 2 < 1\n",
        "\n",
        "    def run(self):\n",
        "        \"\"\"Executes monteCarlo Simulation to approximate Pi.\"\"\"\n",
        "\n",
        "        # Paso 0. Inicializar variables.\n",
        "        inside = 0\n",
        "        coords_in = []\n",
        "        coords_out = []\n",
        "\n",
        "        for _ in range(self.params['n_dots']):\n",
        "            # Paso 3. Genera una muestra de salidas.\n",
        "            coords = self.gen_dot()\n",
        "\n",
        "            # Paso 4. Analiza los resultados.\n",
        "            if self.verify_dot(coords):\n",
        "                inside += 1\n",
        "                coords_in.append(coords)\n",
        "            else:\n",
        "                coords_out.append(coords)\n",
        "\n",
        "        # Paso 1. Establecer el modelo matemático/ predictivo.\n",
        "        result = 4 * inside / self.params['n_dots']\n",
        "\n",
        "        # Actualizar resultados\n",
        "        self.results['pi'] = result\n",
        "        self.results['coords_in'] = np.array(coords_in)\n",
        "        self.results['coords_out'] = np.array(coords_out)\n",
        "\n",
        "        return result"
      ],
      "metadata": {
        "id": "e5gfEmw-mDRG"
      },
      "execution_count": null,
      "outputs": []
    },
    {
      "cell_type": "markdown",
      "source": [
        "Instanciamos la clase y definimos parámetros."
      ],
      "metadata": {
        "id": "wzkxGyGSvl3q"
      }
    },
    {
      "cell_type": "code",
      "source": [
        "exp = MonteCarloPiFull()"
      ],
      "metadata": {
        "id": "ZxMDUjGSmfs_"
      },
      "execution_count": null,
      "outputs": []
    },
    {
      "cell_type": "code",
      "source": [
        "params = {\n",
        "    'n_dots': 10000\n",
        "}\n",
        "\n",
        "exp.setup(params)\n",
        "print('Parameters:', exp.params)\n",
        "print('Results:', exp.results)"
      ],
      "metadata": {
        "id": "YX4rlPMPgU5o"
      },
      "execution_count": null,
      "outputs": []
    },
    {
      "cell_type": "markdown",
      "source": [
        "Podemos imprimir los parámteros del experimento."
      ],
      "metadata": {
        "id": "bCKVfzOmvqud"
      }
    },
    {
      "cell_type": "code",
      "source": [
        "print(exp)"
      ],
      "metadata": {
        "id": "5MTuodmosWHU"
      },
      "execution_count": null,
      "outputs": []
    },
    {
      "cell_type": "markdown",
      "source": [
        "Ejecutamos el experimiento:"
      ],
      "metadata": {
        "id": "NW5jYxnfvwrB"
      }
    },
    {
      "cell_type": "code",
      "source": [
        "print('Aproximación de pi:')\n",
        "exp.run()"
      ],
      "metadata": {
        "id": "zJSHQxF5eqWV"
      },
      "execution_count": null,
      "outputs": []
    },
    {
      "cell_type": "markdown",
      "source": [
        "Podemos explorar los resultados:"
      ],
      "metadata": {
        "id": "UDUNERyDvzVA"
      }
    },
    {
      "cell_type": "code",
      "source": [
        "exp.results"
      ],
      "metadata": {
        "id": "PjCKXNAeg2WC"
      },
      "execution_count": null,
      "outputs": []
    },
    {
      "cell_type": "markdown",
      "source": [
        "Para visualizar y comprender de mejor manera los resultados de esta simulación, podemos imprimir un gráfico que muestre los puntos aleatorios que hemos generado:"
      ],
      "metadata": {
        "id": "ZBd0Z34tv1P_"
      }
    },
    {
      "cell_type": "code",
      "source": [
        "n = exp.params['n_dots']\n",
        "pi = exp.results['pi']\n",
        "coords_in = exp.results['coords_in']\n",
        "coords_out = exp.results['coords_out']\n",
        "\n",
        "\n",
        "fig = plt.figure(figsize=(4, 4), dpi=150)\n",
        "ax = fig.add_subplot(111)\n",
        "ax.set_aspect('equal')\n",
        "\n",
        "circulo = plt.Circle((0, 0), 1, color='0.9', fill=True, zorder=1)\n",
        "ax.add_artist(circulo)\n",
        "ax.scatter(coords_in[:, 0], coords_in[:, 1], s=0.2, c='r', marker=\"o\", zorder=2)\n",
        "ax.scatter(coords_out[:, 0], coords_out[:, 1], s=0.2, c='b', marker=\"o\", zorder=3)\n",
        "\n",
        "plt.xlim(-1, 1)\n",
        "plt.ylim(-1, 1)\n",
        "plt.title(f'$n={n}$, $\\pi \\sim {pi:0<7.5}$')\n",
        "plt.show()"
      ],
      "metadata": {
        "id": "ue1XDnFRpXrS"
      },
      "execution_count": null,
      "outputs": []
    },
    {
      "cell_type": "markdown",
      "source": [
        "## **TAREA**\n",
        "\n",
        "El reto para ti es:\n",
        "- ¿Podrías hacer una aproximación utilizando sólo una cuarta parte de la circunferencia?\n",
        "\n",
        "Para este reto deberás:\n",
        "- Implementar tu propia clase `MonteCarloPiQuarter` que sea una clase heredada de la clase `Experiment`.\n",
        "- Puedes basarte en la clase que vimos en la sesión (`MonteCarloPiFull`).\n",
        "- Deberás correr simulaciones para 1000, 10000 y 100000 puntos y comentar tus resultados obtenidos.\n",
        "- **PUNTOS EXTRA:**\n",
        "   - Modifica la gráfica de arriba para generar una adecuada para tu experimento. Para ello, deberás modificar los límites de la gráfica utilizando Matplotlib.\n",
        "   - ¿Cómo se ven los resultados si pruebas con otra distribución de probabilidad? Argumenta tus resultados."
      ],
      "metadata": {
        "id": "4tzEtnfzwII1"
      }
    }
  ]
}